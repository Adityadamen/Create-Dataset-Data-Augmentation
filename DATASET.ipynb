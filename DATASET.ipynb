{
 "cells": [
  {
   "cell_type": "code",
   "execution_count": 1,
   "metadata": {},
   "outputs": [],
   "source": [
    "import os\n",
    "import sys\n",
    "import cv2 \n",
    "import pickle\n",
    "import random\n",
    "import pandas as pd\n",
    "import numpy as np\n",
    "\n",
    "import tensorflow as tf\n",
    "import pickle\n",
    "\n",
    "import matplotlib.pyplot as plt\n",
    "%matplotlib inline"
   ]
  },
  {
   "cell_type": "code",
   "execution_count": 2,
   "metadata": {},
   "outputs": [],
   "source": [
    "DATA_DIR = \"C:/Users/Lenovo/Desktop/Project/alopy_ dataset\"\n",
    "CATERGORIES = ['Alopecia','Not Alopecia']\n",
    "IMAGE_SIZE = 64"
   ]
  },
  {
   "cell_type": "code",
   "execution_count": 5,
   "metadata": {},
   "outputs": [],
   "source": [
    "def create_training_data():\n",
    "    training_date = []\n",
    "    for categories in CATERGORIES:\n",
    "        path = os.path.join(DATA_DIR,categories)\n",
    "        class_num = CATERGORIES.index(categories)\n",
    "        for img in os.listdir(path):\n",
    "            try:\n",
    "                img_array = cv2.imread(os.path.join(path,img),cv2.IMREAD_GRAYSCALE)\n",
    "                new_array = cv2.resize(img_array,(IMAGE_SIZE,IMAGE_SIZE))\n",
    "                training_date.append([new_array,class_num])\n",
    "            except:\n",
    "                pass\n",
    "    return training_date"
   ]
  },
  {
   "cell_type": "code",
   "execution_count": 6,
   "metadata": {},
   "outputs": [],
   "source": [
    "data = np.asarray(create_training_data())"
   ]
  },
  {
   "cell_type": "code",
   "execution_count": 7,
   "metadata": {},
   "outputs": [],
   "source": [
    "\n",
    "x_data = []\n",
    "y_data = []\n",
    "\n",
    "for x in data:\n",
    "    x_data.append(x[0])\n",
    "    y_data.append(x[1])"
   ]
  },
  {
   "cell_type": "code",
   "execution_count": 8,
   "metadata": {},
   "outputs": [],
   "source": [
    "x_data_np = np.asarray(x_data)/255.0\n",
    "\n",
    "y_data_np = np.asarray(y_data)"
   ]
  },
  {
   "cell_type": "code",
   "execution_count": 9,
   "metadata": {},
   "outputs": [
    {
     "data": {
      "text/plain": [
       "array([[[0.99215686, 1.        , 1.        , ..., 1.        ,\n",
       "         1.        , 0.98823529],\n",
       "        [1.        , 0.99607843, 0.99607843, ..., 0.99607843,\n",
       "         0.99607843, 0.99215686],\n",
       "        [0.99607843, 1.        , 1.        , ..., 1.        ,\n",
       "         1.        , 0.99607843],\n",
       "        ...,\n",
       "        [0.99607843, 1.        , 1.        , ..., 1.        ,\n",
       "         1.        , 0.99607843],\n",
       "        [0.99607843, 1.        , 1.        , ..., 1.        ,\n",
       "         1.        , 0.99607843],\n",
       "        [0.99607843, 1.        , 1.        , ..., 1.        ,\n",
       "         1.        , 0.99607843]],\n",
       "\n",
       "       [[0.29803922, 0.3254902 , 0.30196078, ..., 0.8       ,\n",
       "         0.81568627, 0.82745098],\n",
       "        [0.31764706, 0.30980392, 0.32156863, ..., 0.82745098,\n",
       "         0.81568627, 0.83921569],\n",
       "        [0.30588235, 0.30980392, 0.28235294, ..., 0.83137255,\n",
       "         0.81960784, 0.83137255],\n",
       "        ...,\n",
       "        [0.02352941, 0.01568627, 0.02352941, ..., 0.21568627,\n",
       "         0.09803922, 0.05490196],\n",
       "        [0.02745098, 0.01568627, 0.01568627, ..., 0.20784314,\n",
       "         0.06666667, 0.03921569],\n",
       "        [0.01960784, 0.00392157, 0.01176471, ..., 0.19215686,\n",
       "         0.05490196, 0.0745098 ]],\n",
       "\n",
       "       [[0.4       , 0.41176471, 0.41568627, ..., 0.62745098,\n",
       "         0.4       , 0.21176471],\n",
       "        [0.40784314, 0.41568627, 0.41176471, ..., 0.60392157,\n",
       "         0.06666667, 0.22745098],\n",
       "        [0.41960784, 0.41960784, 0.42352941, ..., 0.49411765,\n",
       "         0.03137255, 0.24313725],\n",
       "        ...,\n",
       "        [0.08235294, 0.06666667, 0.00392157, ..., 0.00392157,\n",
       "         0.00392157, 0.00392157],\n",
       "        [0.09411765, 0.03529412, 0.00784314, ..., 0.00392157,\n",
       "         0.00392157, 0.00392157],\n",
       "        [0.09411765, 0.01568627, 0.00784314, ..., 0.00392157,\n",
       "         0.00392157, 0.00392157]],\n",
       "\n",
       "       ...,\n",
       "\n",
       "       [[0.08235294, 0.08235294, 0.08627451, ..., 0.09803922,\n",
       "         0.09411765, 0.09019608],\n",
       "        [0.08235294, 0.07843137, 0.09019608, ..., 0.09803922,\n",
       "         0.09803922, 0.09411765],\n",
       "        [0.09019608, 0.08627451, 0.09411765, ..., 0.10196078,\n",
       "         0.09803922, 0.09803922],\n",
       "        ...,\n",
       "        [0.54509804, 0.48627451, 0.4627451 , ..., 0.86666667,\n",
       "         0.84313725, 0.78431373],\n",
       "        [0.54117647, 0.50588235, 0.4745098 , ..., 0.82352941,\n",
       "         0.81568627, 0.76470588],\n",
       "        [0.55686275, 0.5254902 , 0.49803922, ..., 0.74117647,\n",
       "         0.81568627, 0.77647059]],\n",
       "\n",
       "       [[0.16470588, 0.16862745, 0.18039216, ..., 0.40392157,\n",
       "         0.4       , 0.4       ],\n",
       "        [0.16078431, 0.17254902, 0.18039216, ..., 0.4       ,\n",
       "         0.39607843, 0.4       ],\n",
       "        [0.16862745, 0.17254902, 0.18039216, ..., 0.40392157,\n",
       "         0.40392157, 0.4       ],\n",
       "        ...,\n",
       "        [0.12941176, 0.13333333, 0.13333333, ..., 0.03921569,\n",
       "         0.03921569, 0.03921569],\n",
       "        [0.13333333, 0.1372549 , 0.14117647, ..., 0.03921569,\n",
       "         0.03921569, 0.03529412],\n",
       "        [0.13333333, 0.1372549 , 0.1372549 , ..., 0.03921569,\n",
       "         0.03921569, 0.03529412]],\n",
       "\n",
       "       [[0.06666667, 0.06666667, 0.06666667, ..., 0.0627451 ,\n",
       "         0.07843137, 0.05490196],\n",
       "        [0.06666667, 0.06666667, 0.06666667, ..., 0.07058824,\n",
       "         0.05098039, 0.04313725],\n",
       "        [0.0745098 , 0.07843137, 0.08235294, ..., 0.10196078,\n",
       "         0.07843137, 0.15686275],\n",
       "        ...,\n",
       "        [0.16470588, 0.15294118, 0.08235294, ..., 0.45490196,\n",
       "         0.43921569, 0.37647059],\n",
       "        [0.0627451 , 0.0745098 , 0.04705882, ..., 0.38039216,\n",
       "         0.41960784, 0.4       ],\n",
       "        [0.03921569, 0.0627451 , 0.07843137, ..., 0.43529412,\n",
       "         0.41568627, 0.34901961]]])"
      ]
     },
     "execution_count": 9,
     "metadata": {},
     "output_type": "execute_result"
    }
   ],
   "source": [
    "x_data_np\n"
   ]
  },
  {
   "cell_type": "code",
   "execution_count": 10,
   "metadata": {},
   "outputs": [],
   "source": [
    "pickle_out = open('x_data_alopy','wb')\n",
    "pickle.dump(x_data_np,pickle_out)\n",
    "pickle_out.close()"
   ]
  },
  {
   "cell_type": "code",
   "execution_count": 11,
   "metadata": {},
   "outputs": [],
   "source": [
    "pickle_out = open('y_data_alopy','wb')\n",
    "pickle.dump(y_data_np,pickle_out)\n",
    "pickle_out.close()"
   ]
  },
  {
   "cell_type": "code",
   "execution_count": 12,
   "metadata": {},
   "outputs": [
    {
     "name": "stdout",
     "output_type": "stream",
     "text": [
      "DATA SET ARE READY TO GO\n"
     ]
    }
   ],
   "source": [
    "  print(\"DATA SET ARE READY TO GO\")"
   ]
  },
  {
   "cell_type": "code",
   "execution_count": null,
   "metadata": {},
   "outputs": [],
   "source": []
  },
  {
   "cell_type": "code",
   "execution_count": null,
   "metadata": {},
   "outputs": [],
   "source": []
  }
 ],
 "metadata": {
  "kernelspec": {
   "display_name": "Python 3",
   "language": "python",
   "name": "python3"
  },
  "language_info": {
   "codemirror_mode": {
    "name": "ipython",
    "version": 3
   },
   "file_extension": ".py",
   "mimetype": "text/x-python",
   "name": "python",
   "nbconvert_exporter": "python",
   "pygments_lexer": "ipython3",
   "version": "3.7.3"
  }
 },
 "nbformat": 4,
 "nbformat_minor": 2
}
